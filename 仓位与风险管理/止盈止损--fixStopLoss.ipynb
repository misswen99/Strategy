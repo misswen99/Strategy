{
 "cells": [
  {
   "cell_type": "markdown",
   "metadata": {
    "collapsed": true
   },
   "source": [
    "## 止盈止损-固定价位止损止盈\n",
    "\n",
    "1. 固定点数(Point)\n",
    "2. 固定百分比(Percentage)\n",
    "3. 固定平保(Protect)"
   ]
  },
  {
   "cell_type": "markdown",
   "metadata": {},
   "source": [
    "### 固定点数(Point)\n",
    "1. 设置止损止盈的点数\n",
    "2. 成交时需要记录成交价格\n",
    "3. 检查当前是持有多头还是空头\n",
    "4. 设置当前价格触发成交价‘加减’固定点数的止损止盈时执行平仓\n",
    "5. 平仓的数量为当前所有多头或空头的持仓数量"
   ]
  },
  {
   "cell_type": "code",
   "execution_count": null,
   "metadata": {
    "collapsed": true
   },
   "outputs": [],
   "source": [
    "# 设置参数\n",
    "\n",
    "stopLossPoint = 0.1 #1毛\n",
    "takeProfitPoint = 0.3 #3毛\n",
    "\n",
    "# 计算止损止盈价位\n",
    "longStop = self.transactionPrice*(1-self.stopLossPct)\n",
    "longProfit = self.transactionPrice*(1+self.takeProfitPct)\n",
    "shortStop = self.transactionPrice*(1-self.stopLossPct)\n",
    "shortProfit = self.transactionPrice*(1+self.takeProfitPct)\n",
    "\n",
    "# 持有多头\n",
    "if (self.posDict[symbol+'_LONG'] > 0):\n",
    "    if (bar.close<=longStop) or (bar.close>=longProfit):\n",
    "        self.sell(symbol,bar.close*0.98, self.posDict[symbol+'_LONG'])\n",
    "\n",
    "# 持有空头\n",
    "elif (self.posDict[symbol+'_SHORT'] > 0):\n",
    "    if (bar.close>shortStop) or (bar.close<takeProfitPoint):\n",
    "        self.cover(symbol,bar.close*1.02, self.posDict[symbol+'_SHORT'])"
   ]
  },
  {
   "cell_type": "markdown",
   "metadata": {},
   "source": [
    "### 固定百分比(Percentage)\n",
    "1. 设置止损止盈的百分比\n",
    "2. 成交时需要记录成交价格\n",
    "3. 检查当前是持有多头还是空头\n",
    "4. 设置当前价格触发成交价‘乘以’固定百分比的止损止盈时执行平仓\n",
    "5. 平仓的数量为当前所有多头或空头的持仓数量"
   ]
  },
  {
   "cell_type": "code",
   "execution_count": null,
   "metadata": {
    "collapsed": true
   },
   "outputs": [],
   "source": [
    "# 设置参数\n",
    "stopLossPct = 0.01 #百分之一\n",
    "takeProfitPct = 0.03 #百分之三\n",
    "\n",
    "# 计算止损止盈价位\n",
    "longStop = self.transactionPrice*(1-self.stopLossPct)\n",
    "longProfit = self.transactionPrice*(1+self.takeProfitPct)\n",
    "shortStop = self.transactionPrice*(1-self.stopLossPct)\n",
    "shortProfit = self.transactionPrice*(1+self.takeProfitPct)\n",
    "\n",
    "# 持有多头\n",
    "if (self.posDict[symbol+'_LONG'] > 0):\n",
    "    if (bar.close<= longStop) or (bar.close>=longProfit):\n",
    "        self.sell(symbol,bar.close*0.98, self.posDict[symbol+'_LONG'])\n",
    "\n",
    "# 持有空头\n",
    "elif (self.posDict[symbol+'_SHORT'] > 0):\n",
    "    if (bar.close>shortStop) or (bar.close<shortProfit):\n",
    "        self.cover(symbol,bar.close*1.02, self.posDict[symbol+'_SHORT'])"
   ]
  },
  {
   "cell_type": "markdown",
   "metadata": {},
   "source": [
    "### 固定平保(Protect)\n",
    "有三种出场可能，止损，平保，止盈。（其中止损和平保互斥）\n",
    "\n",
    "1. 设置止损止盈的百分比，并且设置平保的百分比\n",
    "2. 成交时需要记录成交价格\n",
    "3. 检查当前是持有多头还是空头\n",
    "4. 设置平保变量，满足条件时设置为1，若没满足平保条件则按正常止损比例止损\n",
    "5. 设置止盈出场的比例与满足条件，满足下离场\n",
    "5. 平仓的数量为当前所有多头或空头的持仓数量"
   ]
  },
  {
   "cell_type": "code",
   "execution_count": null,
   "metadata": {
    "collapsed": true
   },
   "outputs": [],
   "source": [
    "# 设置参数\n",
    "stopLossPct = 0.01; takeProfitPct=0.3; protectPct=0.1\n",
    "\n",
    "# 计算止损止盈价位\n",
    "buyTakeProfitPrice = self.transactionPrice[symbol] * (1 + self.takeProfitPct)\n",
    "sellTakeProfitPrice = self.transactionPrice[symbol] * (1 - self.takeProfitPct)\n",
    "buyStopLossPrice = self.transactionPrice[symbol] * (1 - self.stopLossPct)\n",
    "sellStopLossPrice = self.transactionPrice[symbol] * (1 + self.stopLossPct)\n",
    "buyProtectStopPrice = self.transactionPrice[symbol]*(1+self.protectPct)\n",
    "sellProtectStopPrice = self.transactionPrice[symbol]*(1-self.protectPct)\n",
    "\n",
    "if (self.posDict[symbol + '_LONG'] > 0):\n",
    "    #启动平保\n",
    "    if (bar.close )>= buyProtectStopPrice:\n",
    "        self.stopProtect[symbol] = 1 \n",
    "    #满足平保条件\n",
    "    if self.stopProtect[symbol] == 1:\n",
    "        if bar.close <= (1.002 * self.transactionPrice[symbol]):\n",
    "            self.sell(symbol, bar.close * 0.98, self.posDict[symbol + '_LONG'])\n",
    "            self.stopProtect[symbol] = 0\n",
    "    #满足止损条件\n",
    "    elif (self.stopProtect[symbol] == 0) and (bar.close <= buyStopLossPrice):\n",
    "            self.sell(symbol, bar.close * 0.98, self.posDict[symbol + '_LONG'])\n",
    "    #满足止盈条件\n",
    "    if (bar.close >= buyTakeProfitPrice):\n",
    "        self.sell(symbol, bar.close * 0.98, self.posDict[symbol + '_LONG'])\n",
    "        self.stopProtect[symbol] = 0\n",
    "\n",
    "elif (self.posDict[symbol + '_SHORT'] > 0):\n",
    "    #启动平保\n",
    "    if bar.close <= sellProtectStopPrice:\n",
    "        self.stopProtect[symbol] = -1\n",
    "    #满足平保条件\n",
    "    if (self.stopProtect[symbol] == -1) and (bar.close >= (0.998 * self.transactionPrice[symbol])):\n",
    "            self.cover(symbol, bar.close * 1.02, self.posDict[symbol + '_SHORT'])\n",
    "            self.stopProtect[symbol] = 0\n",
    "    #满足止损条件\n",
    "    elif (self.stopProtect[symbol] == 0) and (bar.close >= sellStopLossPrice):\n",
    "            self.cover(symbol, bar.close * 1.02, self.posDict[symbol + '_SHORT'])\n",
    "    #满足止盈条件\n",
    "    if (bar.close <= sellTakeProfitPrice):\n",
    "        self.cover(symbol, bar.close * 1.02, self.posDict[symbol + '_SHORT'])\n",
    "        self.stopProtect[symbol] = 0\n",
    "\n",
    "#空仓时将平保条件还原为0\n",
    "elif (self.posDict[symbol + '_LONG'] == 0) and (self.posDict[symbol + '_SHORT'] == 0):\n",
    "    self.stopProtect[symbol] = 0"
   ]
  }
 ],
 "metadata": {
  "kernelspec": {
   "display_name": "Python 3",
   "language": "python",
   "name": "python3"
  },
  "language_info": {
   "codemirror_mode": {
    "name": "ipython",
    "version": 3
   },
   "file_extension": ".py",
   "mimetype": "text/x-python",
   "name": "python",
   "nbconvert_exporter": "python",
   "pygments_lexer": "ipython3",
   "version": "3.6.4"
  }
 },
 "nbformat": 4,
 "nbformat_minor": 2
}
