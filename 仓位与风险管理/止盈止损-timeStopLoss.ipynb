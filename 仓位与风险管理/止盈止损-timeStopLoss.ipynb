{
 "cells": [
  {
   "cell_type": "markdown",
   "metadata": {},
   "source": [
    "### 止盈止损-时间止损\n",
    "1. 止损后停止交易时间(stopLossControl)\n",
    "2. 最长持有时间设置(holdHour)"
   ]
  },
  {
   "cell_type": "markdown",
   "metadata": {},
   "source": [
    "### 止损后停止交易时间 \n",
    "1. 设置停止交易时间\n",
    "2. 记录平仓时间\n",
    "3. 触发止损条件后，设置停止为1\n",
    "4. 计算平仓时间与当下时间的差，设置停止归0"
   ]
  },
  {
   "cell_type": "code",
   "execution_count": null,
   "metadata": {
    "collapsed": true
   },
   "outputs": [],
   "source": [
    "# 设置参数\n",
    "stopControlTime = 3\n",
    "\n",
    "# 设置变量\n",
    "self.closeTime = {s: 0 for s in self.symbolList}\n",
    "self.stopLossControl = {s: 0 for s in self.symbolList}\n",
    "\n",
    "# 判断时间止损条件\n",
    "if self.closeTime[symbol]:\n",
    "    if (bar.datetime - self.closeTime[symbol]) >= timedelta(hours=self.stopControlTime):\n",
    "        self.stopLossControl[symbol] = 0\n",
    "\n",
    "# 记录平仓时间\n",
    "def onTrade(self, trade):\n",
    "    symbol = trade.vtSymbol\n",
    "    if trade.offset == OFFSET_CLOSE:\n",
    "        self.closeTime[symbol] = trade.tradeTime"
   ]
  },
  {
   "cell_type": "markdown",
   "metadata": {
    "collapsed": true
   },
   "source": [
    "## 最长持有时间设置(holdHour)\n",
    "1. 设置最大持有时间\n",
    "2. 记录开仓时间\n",
    "3. 当有开仓是检查持有时间\n",
    "4. 持有时间超过后平仓出场\n",
    "5. 初始化开仓时间，设置为None"
   ]
  },
  {
   "cell_type": "code",
   "execution_count": null,
   "metadata": {
    "collapsed": true
   },
   "outputs": [],
   "source": [
    "# 设置参数\n",
    "holdHour = 10\n",
    "\n",
    "# 设置变量\n",
    "self.openTime = {s: None for s in self.symbolList}\n",
    "\n",
    "# 计算持有时间\n",
    "if self.openTime[symbol]:\n",
    "    if ((bar.datetime-self.openTime[symbol])>=timedelta(hours=self.holdHour)):\n",
    "        if self.posDict[symbol + \"_LONG\"] > 0:\n",
    "            self.sell(symbol, bar.close * 0.98, self.posDict[symbol + '_LONG'])\n",
    "            self.writeCtaLog('afterOpenOrder_Sell')\n",
    "            self.stopLossControl[symbol] = 1\n",
    "            self.openTime[symbol] = None\n",
    "        elif self.posDict[symbol + \"_SHORT\"] > 0:\n",
    "            self.cover(symbol, bar.close * 1.015, self.posDict[symbol + \"_SHORT\"])\n",
    "            self.writeCtaLog('afterOpenOrder_Cover')\n",
    "            self.stopLossControl[symbol] = -1\n",
    "            self.openTime[symbol] = None\n",
    "\n",
    "# 记录开仓时间\n",
    "def onTrade(self, trade):\n",
    "    symbol = trade.vtSymbol\n",
    "    if trade.offset == OFFSET_OPEN:\n",
    "        self.openTime[symbol] = trade.tradeTime"
   ]
  }
 ],
 "metadata": {
  "kernelspec": {
   "display_name": "Python 3",
   "language": "python",
   "name": "python3"
  },
  "language_info": {
   "codemirror_mode": {
    "name": "ipython",
    "version": 3
   },
   "file_extension": ".py",
   "mimetype": "text/x-python",
   "name": "python",
   "nbconvert_exporter": "python",
   "pygments_lexer": "ipython3",
   "version": "3.6.4"
  }
 },
 "nbformat": 4,
 "nbformat_minor": 2
}
